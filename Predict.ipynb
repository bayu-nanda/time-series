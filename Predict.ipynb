{
  "cells": [
    {
      "cell_type": "markdown",
      "metadata": {
        "id": "view-in-github",
        "colab_type": "text"
      },
      "source": [
        "<a href=\"https://colab.research.google.com/github/bayu-nanda/time-series/blob/main/Predict.ipynb\" target=\"_parent\"><img src=\"https://colab.research.google.com/assets/colab-badge.svg\" alt=\"Open In Colab\"/></a>"
      ]
    },
    {
      "cell_type": "markdown",
      "id": "sL6V9XkDoVx9",
      "metadata": {
        "id": "sL6V9XkDoVx9"
      },
      "source": [
        "# **PREDIKSI HARGA BITCOIN**"
      ]
    },
    {
      "cell_type": "code",
      "execution_count": 14,
      "id": "kKLWcb1ruZm7",
      "metadata": {
        "id": "kKLWcb1ruZm7"
      },
      "outputs": [],
      "source": [
        "# jalankan requirement dibawah ini\n",
        "# pip install yfinance\n",
        "# pip install --upgrade yfinance pandas_datareader"
      ]
    },
    {
      "cell_type": "code",
      "execution_count": 15,
      "id": "WozSvVt3u236",
      "metadata": {
        "id": "WozSvVt3u236"
      },
      "outputs": [],
      "source": []
    },
    {
      "cell_type": "code",
      "execution_count": 24,
      "id": "1642ddb2",
      "metadata": {
        "id": "1642ddb2"
      },
      "outputs": [],
      "source": [
        "# masukkan library berikut\n",
        "import numpy as np\n",
        "import matplotlib.pyplot as plt\n",
        "import pandas as pd\n",
        "from pandas_datareader import data as web\n",
        "import pandas_datareader\n",
        "import yfinance as yfin\n",
        "import datetime as dt\n",
        "\n",
        "from sklearn.preprocessing import MinMaxScaler\n",
        "from tensorflow.keras.models import Sequential\n",
        "from tensorflow.keras.layers import Dense, Dropout, LSTM"
      ]
    },
    {
      "cell_type": "code",
      "execution_count": 25,
      "id": "be519454",
      "metadata": {
        "colab": {
          "base_uri": "https://localhost:8080/"
        },
        "id": "be519454",
        "outputId": "31c538bc-f0cc-4bee-b731-281889aa4ebf"
      },
      "outputs": [
        {
          "output_type": "stream",
          "name": "stdout",
          "text": [
            "2.18.0\n"
          ]
        }
      ],
      "source": [
        "# cek tensor flow version\n",
        "import tensorflow as tf\n",
        "print(tf.__version__)"
      ]
    },
    {
      "cell_type": "code",
      "execution_count": 26,
      "id": "RKENkR7fycc6",
      "metadata": {
        "colab": {
          "base_uri": "https://localhost:8080/"
        },
        "id": "RKENkR7fycc6",
        "outputId": "0595b2d1-10f8-4a90-b35f-4b5a08e89369"
      },
      "outputs": [
        {
          "output_type": "stream",
          "name": "stdout",
          "text": [
            "                                   Open          High           Low  \\\n",
            "Date                                                                  \n",
            "2015-01-01 00:00:00+00:00    320.434998    320.434998    314.002991   \n",
            "2015-01-02 00:00:00+00:00    314.079010    315.838989    313.565002   \n",
            "2015-01-03 00:00:00+00:00    314.846008    315.149994    281.082001   \n",
            "2015-01-04 00:00:00+00:00    281.145996    287.230011    257.612000   \n",
            "2015-01-05 00:00:00+00:00    265.084015    278.341003    265.084015   \n",
            "...                                 ...           ...           ...   \n",
            "2024-01-26 00:00:00+00:00  39936.816406  42209.386719  39825.691406   \n",
            "2024-01-27 00:00:00+00:00  41815.625000  42195.632812  41431.281250   \n",
            "2024-01-28 00:00:00+00:00  42126.125000  42797.175781  41696.910156   \n",
            "2024-01-29 00:00:00+00:00  42030.914062  43305.867188  41818.332031   \n",
            "2024-01-30 00:00:00+00:00  43300.226562  43838.945312  42711.371094   \n",
            "\n",
            "                                  Close       Volume  Dividends  Stock Splits  \n",
            "Date                                                                           \n",
            "2015-01-01 00:00:00+00:00    314.248993      8036550        0.0           0.0  \n",
            "2015-01-02 00:00:00+00:00    315.032013      7860650        0.0           0.0  \n",
            "2015-01-03 00:00:00+00:00    281.082001     33054400        0.0           0.0  \n",
            "2015-01-04 00:00:00+00:00    264.195007     55629100        0.0           0.0  \n",
            "2015-01-05 00:00:00+00:00    274.473999     43962800        0.0           0.0  \n",
            "...                                 ...          ...        ...           ...  \n",
            "2024-01-26 00:00:00+00:00  41816.871094  25598119893        0.0           0.0  \n",
            "2024-01-27 00:00:00+00:00  42120.054688  11422941934        0.0           0.0  \n",
            "2024-01-28 00:00:00+00:00  42035.593750  16858971687        0.0           0.0  \n",
            "2024-01-29 00:00:00+00:00  43288.246094  20668476578        0.0           0.0  \n",
            "2024-01-30 00:00:00+00:00  42952.609375  23842814518        0.0           0.0  \n",
            "\n",
            "[3317 rows x 7 columns]\n",
            "Data berhasil disimpan ke BTC-USD_2015-01-01_to_2024-01-31.csv\n"
          ]
        }
      ],
      "source": [
        "# Masukkan simbol saham\n",
        "ticker_symbol = \"BTC-USD\"\n",
        "\n",
        "# Buat objek ticker\n",
        "ticker = yfin.Ticker(ticker_symbol)\n",
        "\n",
        "# Tentukan tanggal mulai dan akhir (format: YYYY-MM-DD)\n",
        "start_date = \"2015-01-01\"\n",
        "end_date = \"2024-01-31\"\n",
        "\n",
        "# Ambil data historis berdasarkan rentang tanggal\n",
        "data = ticker.history(start=start_date, end=end_date)\n",
        "\n",
        "# Tampilkan data\n",
        "print(data)\n",
        "\n",
        "# Simpan ke file CSV\n",
        "data.to_csv(f\"{ticker_symbol}_{start_date}_to_{end_date}.csv\")\n",
        "\n",
        "print(f\"Data berhasil disimpan ke {ticker_symbol}_{start_date}_to_{end_date}.csv\")\n"
      ]
    },
    {
      "cell_type": "code",
      "execution_count": 27,
      "id": "2e96e65f",
      "metadata": {
        "id": "2e96e65f"
      },
      "outputs": [],
      "source": [
        "scaler=MinMaxScaler(feature_range=(0,1))\n",
        "scaled_data= scaler.fit_transform(data['Close'].values.reshape(-1,1))\n",
        "\n",
        "prediction_days=60\n",
        "\n",
        "x_train = []\n",
        "y_train = []\n",
        "\n",
        "for x in range(prediction_days, len(scaled_data)):\n",
        "    x_train.append(scaled_data[x-prediction_days:x,0])\n",
        "    y_train.append(scaled_data[x,0])\n",
        "\n",
        "x_train, y_train = np.array(x_train), np.array(y_train)\n",
        "x_train = np.reshape(x_train, (x_train.shape[0],x_train.shape[1],1))\n"
      ]
    },
    {
      "cell_type": "code",
      "execution_count": 28,
      "id": "38535c92",
      "metadata": {
        "colab": {
          "base_uri": "https://localhost:8080/"
        },
        "id": "38535c92",
        "outputId": "c1b1fc47-3b71-4db7-9056-99edfcbe87da"
      },
      "outputs": [
        {
          "output_type": "stream",
          "name": "stdout",
          "text": [
            "3257\n",
            "3257\n"
          ]
        }
      ],
      "source": [
        "print(len(x_train))\n",
        "print(len(y_train))"
      ]
    },
    {
      "cell_type": "code",
      "execution_count": 29,
      "id": "0e92a7a8",
      "metadata": {
        "colab": {
          "base_uri": "https://localhost:8080/"
        },
        "id": "0e92a7a8",
        "outputId": "12246564-df55-4a98-f6c6-90fdf29a8846"
      },
      "outputs": [
        {
          "output_type": "stream",
          "name": "stderr",
          "text": [
            "/usr/local/lib/python3.11/dist-packages/keras/src/layers/rnn/rnn.py:200: UserWarning: Do not pass an `input_shape`/`input_dim` argument to a layer. When using Sequential models, prefer using an `Input(shape)` object as the first layer in the model instead.\n",
            "  super().__init__(**kwargs)\n"
          ]
        }
      ],
      "source": [
        "\n",
        "#build model\n",
        "\n",
        "model = Sequential()\n",
        "\n",
        "model.add(LSTM(units=50,return_sequences=True, input_shape=(x_train.shape[1],1)))\n",
        "model.add(Dropout(0.2))\n",
        "model.add(LSTM(units=50,return_sequences=True))\n",
        "model.add(Dropout(0.2))\n",
        "model.add(LSTM(units=50))\n",
        "model.add(Dropout(0.2))\n",
        "model.add(Dense(units=1))\n",
        "\n",
        "\n",
        "\n"
      ]
    },
    {
      "cell_type": "code",
      "execution_count": 30,
      "id": "274e724e",
      "metadata": {
        "colab": {
          "base_uri": "https://localhost:8080/"
        },
        "id": "274e724e",
        "outputId": "f706aba8-21b4-47b0-9577-1f339e790913"
      },
      "outputs": [
        {
          "output_type": "stream",
          "name": "stdout",
          "text": [
            "Epoch 1/50\n",
            "\u001b[1m102/102\u001b[0m \u001b[32m━━━━━━━━━━━━━━━━━━━━\u001b[0m\u001b[37m\u001b[0m \u001b[1m14s\u001b[0m 84ms/step - loss: 0.0205\n",
            "Epoch 2/50\n",
            "\u001b[1m102/102\u001b[0m \u001b[32m━━━━━━━━━━━━━━━━━━━━\u001b[0m\u001b[37m\u001b[0m \u001b[1m10s\u001b[0m 87ms/step - loss: 0.0028\n",
            "Epoch 3/50\n",
            "\u001b[1m102/102\u001b[0m \u001b[32m━━━━━━━━━━━━━━━━━━━━\u001b[0m\u001b[37m\u001b[0m \u001b[1m10s\u001b[0m 90ms/step - loss: 0.0022\n",
            "Epoch 4/50\n",
            "\u001b[1m102/102\u001b[0m \u001b[32m━━━━━━━━━━━━━━━━━━━━\u001b[0m\u001b[37m\u001b[0m \u001b[1m10s\u001b[0m 100ms/step - loss: 0.0019\n",
            "Epoch 5/50\n",
            "\u001b[1m102/102\u001b[0m \u001b[32m━━━━━━━━━━━━━━━━━━━━\u001b[0m\u001b[37m\u001b[0m \u001b[1m19s\u001b[0m 88ms/step - loss: 0.0020\n",
            "Epoch 6/50\n",
            "\u001b[1m102/102\u001b[0m \u001b[32m━━━━━━━━━━━━━━━━━━━━\u001b[0m\u001b[37m\u001b[0m \u001b[1m10s\u001b[0m 88ms/step - loss: 0.0016\n",
            "Epoch 7/50\n",
            "\u001b[1m102/102\u001b[0m \u001b[32m━━━━━━━━━━━━━━━━━━━━\u001b[0m\u001b[37m\u001b[0m \u001b[1m10s\u001b[0m 85ms/step - loss: 0.0016\n",
            "Epoch 8/50\n",
            "\u001b[1m102/102\u001b[0m \u001b[32m━━━━━━━━━━━━━━━━━━━━\u001b[0m\u001b[37m\u001b[0m \u001b[1m9s\u001b[0m 75ms/step - loss: 0.0015\n",
            "Epoch 9/50\n",
            "\u001b[1m102/102\u001b[0m \u001b[32m━━━━━━━━━━━━━━━━━━━━\u001b[0m\u001b[37m\u001b[0m \u001b[1m10s\u001b[0m 77ms/step - loss: 0.0015\n",
            "Epoch 10/50\n",
            "\u001b[1m102/102\u001b[0m \u001b[32m━━━━━━━━━━━━━━━━━━━━\u001b[0m\u001b[37m\u001b[0m \u001b[1m11s\u001b[0m 88ms/step - loss: 0.0011\n",
            "Epoch 11/50\n",
            "\u001b[1m102/102\u001b[0m \u001b[32m━━━━━━━━━━━━━━━━━━━━\u001b[0m\u001b[37m\u001b[0m \u001b[1m10s\u001b[0m 88ms/step - loss: 0.0013\n",
            "Epoch 12/50\n",
            "\u001b[1m102/102\u001b[0m \u001b[32m━━━━━━━━━━━━━━━━━━━━\u001b[0m\u001b[37m\u001b[0m \u001b[1m11s\u001b[0m 94ms/step - loss: 0.0013\n",
            "Epoch 13/50\n",
            "\u001b[1m102/102\u001b[0m \u001b[32m━━━━━━━━━━━━━━━━━━━━\u001b[0m\u001b[37m\u001b[0m \u001b[1m8s\u001b[0m 76ms/step - loss: 0.0013\n",
            "Epoch 14/50\n",
            "\u001b[1m102/102\u001b[0m \u001b[32m━━━━━━━━━━━━━━━━━━━━\u001b[0m\u001b[37m\u001b[0m \u001b[1m10s\u001b[0m 77ms/step - loss: 0.0010\n",
            "Epoch 15/50\n",
            "\u001b[1m102/102\u001b[0m \u001b[32m━━━━━━━━━━━━━━━━━━━━\u001b[0m\u001b[37m\u001b[0m \u001b[1m11s\u001b[0m 88ms/step - loss: 0.0011\n",
            "Epoch 16/50\n",
            "\u001b[1m102/102\u001b[0m \u001b[32m━━━━━━━━━━━━━━━━━━━━\u001b[0m\u001b[37m\u001b[0m \u001b[1m10s\u001b[0m 88ms/step - loss: 0.0010\n",
            "Epoch 17/50\n",
            "\u001b[1m102/102\u001b[0m \u001b[32m━━━━━━━━━━━━━━━━━━━━\u001b[0m\u001b[37m\u001b[0m \u001b[1m10s\u001b[0m 87ms/step - loss: 0.0011\n",
            "Epoch 18/50\n",
            "\u001b[1m102/102\u001b[0m \u001b[32m━━━━━━━━━━━━━━━━━━━━\u001b[0m\u001b[37m\u001b[0m \u001b[1m9s\u001b[0m 76ms/step - loss: 0.0012\n",
            "Epoch 19/50\n",
            "\u001b[1m102/102\u001b[0m \u001b[32m━━━━━━━━━━━━━━━━━━━━\u001b[0m\u001b[37m\u001b[0m \u001b[1m10s\u001b[0m 76ms/step - loss: 0.0010\n",
            "Epoch 20/50\n",
            "\u001b[1m102/102\u001b[0m \u001b[32m━━━━━━━━━━━━━━━━━━━━\u001b[0m\u001b[37m\u001b[0m \u001b[1m11s\u001b[0m 88ms/step - loss: 8.8274e-04\n",
            "Epoch 21/50\n",
            "\u001b[1m102/102\u001b[0m \u001b[32m━━━━━━━━━━━━━━━━━━━━\u001b[0m\u001b[37m\u001b[0m \u001b[1m10s\u001b[0m 89ms/step - loss: 0.0011\n",
            "Epoch 22/50\n",
            "\u001b[1m102/102\u001b[0m \u001b[32m━━━━━━━━━━━━━━━━━━━━\u001b[0m\u001b[37m\u001b[0m \u001b[1m10s\u001b[0m 88ms/step - loss: 0.0010\n",
            "Epoch 23/50\n",
            "\u001b[1m102/102\u001b[0m \u001b[32m━━━━━━━━━━━━━━━━━━━━\u001b[0m\u001b[37m\u001b[0m \u001b[1m9s\u001b[0m 75ms/step - loss: 0.0011\n",
            "Epoch 24/50\n",
            "\u001b[1m102/102\u001b[0m \u001b[32m━━━━━━━━━━━━━━━━━━━━\u001b[0m\u001b[37m\u001b[0m \u001b[1m10s\u001b[0m 76ms/step - loss: 9.2677e-04\n",
            "Epoch 25/50\n",
            "\u001b[1m102/102\u001b[0m \u001b[32m━━━━━━━━━━━━━━━━━━━━\u001b[0m\u001b[37m\u001b[0m \u001b[1m11s\u001b[0m 85ms/step - loss: 0.0010\n",
            "Epoch 26/50\n",
            "\u001b[1m102/102\u001b[0m \u001b[32m━━━━━━━━━━━━━━━━━━━━\u001b[0m\u001b[37m\u001b[0m \u001b[1m10s\u001b[0m 88ms/step - loss: 8.1111e-04\n",
            "Epoch 27/50\n",
            "\u001b[1m102/102\u001b[0m \u001b[32m━━━━━━━━━━━━━━━━━━━━\u001b[0m\u001b[37m\u001b[0m \u001b[1m10s\u001b[0m 89ms/step - loss: 8.5392e-04\n",
            "Epoch 28/50\n",
            "\u001b[1m102/102\u001b[0m \u001b[32m━━━━━━━━━━━━━━━━━━━━\u001b[0m\u001b[37m\u001b[0m \u001b[1m9s\u001b[0m 76ms/step - loss: 7.9324e-04\n",
            "Epoch 29/50\n",
            "\u001b[1m102/102\u001b[0m \u001b[32m━━━━━━━━━━━━━━━━━━━━\u001b[0m\u001b[37m\u001b[0m \u001b[1m10s\u001b[0m 75ms/step - loss: 8.4516e-04\n",
            "Epoch 30/50\n",
            "\u001b[1m102/102\u001b[0m \u001b[32m━━━━━━━━━━━━━━━━━━━━\u001b[0m\u001b[37m\u001b[0m \u001b[1m9s\u001b[0m 88ms/step - loss: 0.0010\n",
            "Epoch 31/50\n",
            "\u001b[1m102/102\u001b[0m \u001b[32m━━━━━━━━━━━━━━━━━━━━\u001b[0m\u001b[37m\u001b[0m \u001b[1m9s\u001b[0m 88ms/step - loss: 8.1203e-04\n",
            "Epoch 32/50\n",
            "\u001b[1m102/102\u001b[0m \u001b[32m━━━━━━━━━━━━━━━━━━━━\u001b[0m\u001b[37m\u001b[0m \u001b[1m9s\u001b[0m 75ms/step - loss: 9.0670e-04\n",
            "Epoch 33/50\n",
            "\u001b[1m102/102\u001b[0m \u001b[32m━━━━━━━━━━━━━━━━━━━━\u001b[0m\u001b[37m\u001b[0m \u001b[1m10s\u001b[0m 76ms/step - loss: 8.9276e-04\n",
            "Epoch 34/50\n",
            "\u001b[1m102/102\u001b[0m \u001b[32m━━━━━━━━━━━━━━━━━━━━\u001b[0m\u001b[37m\u001b[0m \u001b[1m11s\u001b[0m 84ms/step - loss: 7.4227e-04\n",
            "Epoch 35/50\n",
            "\u001b[1m102/102\u001b[0m \u001b[32m━━━━━━━━━━━━━━━━━━━━\u001b[0m\u001b[37m\u001b[0m \u001b[1m11s\u001b[0m 88ms/step - loss: 8.0458e-04\n",
            "Epoch 36/50\n",
            "\u001b[1m102/102\u001b[0m \u001b[32m━━━━━━━━━━━━━━━━━━━━\u001b[0m\u001b[37m\u001b[0m \u001b[1m10s\u001b[0m 89ms/step - loss: 8.3992e-04\n",
            "Epoch 37/50\n",
            "\u001b[1m102/102\u001b[0m \u001b[32m━━━━━━━━━━━━━━━━━━━━\u001b[0m\u001b[37m\u001b[0m \u001b[1m9s\u001b[0m 76ms/step - loss: 8.9441e-04\n",
            "Epoch 38/50\n",
            "\u001b[1m102/102\u001b[0m \u001b[32m━━━━━━━━━━━━━━━━━━━━\u001b[0m\u001b[37m\u001b[0m \u001b[1m9s\u001b[0m 90ms/step - loss: 8.0865e-04\n",
            "Epoch 39/50\n",
            "\u001b[1m102/102\u001b[0m \u001b[32m━━━━━━━━━━━━━━━━━━━━\u001b[0m\u001b[37m\u001b[0m \u001b[1m9s\u001b[0m 88ms/step - loss: 7.7128e-04\n",
            "Epoch 40/50\n",
            "\u001b[1m102/102\u001b[0m \u001b[32m━━━━━━━━━━━━━━━━━━━━\u001b[0m\u001b[37m\u001b[0m \u001b[1m10s\u001b[0m 85ms/step - loss: 8.1028e-04\n",
            "Epoch 41/50\n",
            "\u001b[1m102/102\u001b[0m \u001b[32m━━━━━━━━━━━━━━━━━━━━\u001b[0m\u001b[37m\u001b[0m \u001b[1m8s\u001b[0m 79ms/step - loss: 8.5622e-04\n",
            "Epoch 42/50\n",
            "\u001b[1m102/102\u001b[0m \u001b[32m━━━━━━━━━━━━━━━━━━━━\u001b[0m\u001b[37m\u001b[0m \u001b[1m11s\u001b[0m 88ms/step - loss: 7.1295e-04\n",
            "Epoch 43/50\n",
            "\u001b[1m102/102\u001b[0m \u001b[32m━━━━━━━━━━━━━━━━━━━━\u001b[0m\u001b[37m\u001b[0m \u001b[1m10s\u001b[0m 89ms/step - loss: 7.9487e-04\n",
            "Epoch 44/50\n",
            "\u001b[1m102/102\u001b[0m \u001b[32m━━━━━━━━━━━━━━━━━━━━\u001b[0m\u001b[37m\u001b[0m \u001b[1m8s\u001b[0m 78ms/step - loss: 9.6768e-04\n",
            "Epoch 45/50\n",
            "\u001b[1m102/102\u001b[0m \u001b[32m━━━━━━━━━━━━━━━━━━━━\u001b[0m\u001b[37m\u001b[0m \u001b[1m10s\u001b[0m 76ms/step - loss: 9.2629e-04\n",
            "Epoch 46/50\n",
            "\u001b[1m102/102\u001b[0m \u001b[32m━━━━━━━━━━━━━━━━━━━━\u001b[0m\u001b[37m\u001b[0m \u001b[1m11s\u001b[0m 80ms/step - loss: 7.5226e-04\n",
            "Epoch 47/50\n",
            "\u001b[1m102/102\u001b[0m \u001b[32m━━━━━━━━━━━━━━━━━━━━\u001b[0m\u001b[37m\u001b[0m \u001b[1m11s\u001b[0m 89ms/step - loss: 7.8885e-04\n",
            "Epoch 48/50\n",
            "\u001b[1m102/102\u001b[0m \u001b[32m━━━━━━━━━━━━━━━━━━━━\u001b[0m\u001b[37m\u001b[0m \u001b[1m10s\u001b[0m 88ms/step - loss: 7.3317e-04\n",
            "Epoch 49/50\n",
            "\u001b[1m102/102\u001b[0m \u001b[32m━━━━━━━━━━━━━━━━━━━━\u001b[0m\u001b[37m\u001b[0m \u001b[1m8s\u001b[0m 78ms/step - loss: 7.8900e-04\n",
            "Epoch 50/50\n",
            "\u001b[1m102/102\u001b[0m \u001b[32m━━━━━━━━━━━━━━━━━━━━\u001b[0m\u001b[37m\u001b[0m \u001b[1m10s\u001b[0m 77ms/step - loss: 7.6116e-04\n"
          ]
        },
        {
          "output_type": "execute_result",
          "data": {
            "text/plain": [
              "<keras.src.callbacks.history.History at 0x7b1d5e75fe50>"
            ]
          },
          "metadata": {},
          "execution_count": 30
        }
      ],
      "source": [
        "model.compile(optimizer='adam',loss='mean_squared_error')\n",
        "model.fit(x_train, y_train, epochs=50,batch_size=32)"
      ]
    },
    {
      "cell_type": "code",
      "execution_count": 42,
      "id": "c719e98c",
      "metadata": {
        "id": "c719e98c"
      },
      "outputs": [],
      "source": [
        "#test model\n",
        "\n",
        "#load test data\n",
        "test_start = '2024-02-01'\n",
        "test_end = dt.datetime.now()\n",
        "\n",
        "test_data = ticker.history(start=test_start, end=test_end)\n",
        "\n",
        "actual_price= test_data['Close'].values\n",
        "\n",
        "total_dataset = pd.concat((data['Close'],test_data['Close']),axis=0)\n",
        "\n",
        "model_inputs = total_dataset[len(total_dataset)-len(test_data)-prediction_days:].values\n",
        "model_inputs = model_inputs.reshape(-1,1)\n",
        "model_inputs = scaler.transform(model_inputs)\n",
        "\n",
        "\n",
        "\n"
      ]
    },
    {
      "cell_type": "code",
      "execution_count": 43,
      "id": "2a2fefef",
      "metadata": {
        "colab": {
          "base_uri": "https://localhost:8080/"
        },
        "id": "2a2fefef",
        "outputId": "19f7cd79-3a4a-47a4-dd41-920ecb852825"
      },
      "outputs": [
        {
          "output_type": "stream",
          "name": "stdout",
          "text": [
            "554\n",
            "494\n",
            "3811\n"
          ]
        }
      ],
      "source": [
        "print(len(model_inputs))\n",
        "print(len(test_data))\n",
        "print(len(total_dataset))"
      ]
    },
    {
      "cell_type": "code",
      "execution_count": 44,
      "id": "b91af286",
      "metadata": {
        "colab": {
          "base_uri": "https://localhost:8080/",
          "height": 489
        },
        "id": "b91af286",
        "outputId": "09b1a148-3d2d-494c-f170-cbf24da18c7a"
      },
      "outputs": [
        {
          "output_type": "stream",
          "name": "stdout",
          "text": [
            "\u001b[1m16/16\u001b[0m \u001b[32m━━━━━━━━━━━━━━━━━━━━\u001b[0m\u001b[37m\u001b[0m \u001b[1m0s\u001b[0m 22ms/step\n"
          ]
        },
        {
          "output_type": "display_data",
          "data": {
            "text/plain": [
              "<Figure size 640x480 with 1 Axes>"
            ],
            "image/png": "[encoded data removed]"
          },
          "metadata": {}
        }
      ],
      "source": [
        "#make prediction\n",
        "x_test=[]\n",
        "\n",
        "for x in range(prediction_days,len(model_inputs)):\n",
        "    x_test.append(model_inputs[x-prediction_days:x,0])\n",
        "\n",
        "x_test = np.array(x_test)\n",
        "x_test = np.reshape(x_test, (x_test.shape[0],x_test.shape[1],1))\n",
        "\n",
        "predicted_prices = model.predict(x_test)\n",
        "predicted_prices = scaler.inverse_transform(predicted_prices)\n",
        "\n",
        "#plot the test predict\n",
        "\n",
        "plt.plot(actual_price, color=\"black\",label=f\"Actual {ticker_symbol} Price\")\n",
        "plt.plot(predicted_prices,color='green',label=f\"Predicted {ticker_symbol} Price\")\n",
        "plt.title(f\"{ticker_symbol} share Price\")\n",
        "plt.xlabel('Time')\n",
        "plt.ylabel(f'{ticker_symbol} share Price')\n",
        "plt.legend()\n",
        "plt.show()"
      ]
    },
    {
      "cell_type": "code",
      "execution_count": 46,
      "id": "c2be0f73",
      "metadata": {
        "colab": {
          "base_uri": "https://localhost:8080/"
        },
        "id": "c2be0f73",
        "outputId": "495b8594-0069-4621-a1bc-d40bd0878a41"
      },
      "outputs": [
        {
          "output_type": "stream",
          "name": "stdout",
          "text": [
            "\u001b[1m1/1\u001b[0m \u001b[32m━━━━━━━━━━━━━━━━━━━━\u001b[0m\u001b[37m\u001b[0m \u001b[1m0s\u001b[0m 44ms/step\n",
            "Prediction:[[100170.92]]\n"
          ]
        }
      ],
      "source": [
        "#predict next day\n",
        "\n",
        "real_data = [model_inputs[len(model_inputs)-prediction_days:len(model_inputs+1),0]]\n",
        "real_data = np.array(real_data)\n",
        "real_data = np.reshape(real_data,(real_data.shape[0], real_data.shape[1],1))\n",
        "\n",
        "prediction = model.predict(real_data)\n",
        "prediction = scaler.inverse_transform(prediction)\n",
        "print(f\"Prediction:{prediction}\")"
      ]
    },
    {
      "cell_type": "code",
      "execution_count": null,
      "id": "efbcc4ba",
      "metadata": {
        "id": "efbcc4ba"
      },
      "outputs": [],
      "source": []
    },
    {
      "cell_type": "code",
      "execution_count": null,
      "id": "d67db463",
      "metadata": {
        "id": "d67db463"
      },
      "outputs": [],
      "source": [
        "\n"
      ]
    }
  ],
  "metadata": {
    "colab": {
      "provenance": [],
      "include_colab_link": true
    },
    "kernelspec": {
      "display_name": "Python 3 (ipykernel)",
      "language": "python",
      "name": "python3"
    },
    "language_info": {
      "codemirror_mode": {
        "name": "ipython",
        "version": 3
      },
      "file_extension": ".py",
      "mimetype": "text/x-python",
      "name": "python",
      "nbconvert_exporter": "python",
      "pygments_lexer": "ipython3",
      "version": "3.9.12"
    }
  },
  "nbformat": 4,
  "nbformat_minor": 5
}